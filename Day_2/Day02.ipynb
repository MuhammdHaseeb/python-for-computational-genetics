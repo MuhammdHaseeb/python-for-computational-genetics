{
 "cells": [
  {
   "cell_type": "markdown",
   "id": "4888e29a",
   "metadata": {},
   "source": [
    "## Types of objects in Python\n"
   ]
  },
  {
   "cell_type": "markdown",
   "id": "f234e80b",
   "metadata": {},
   "source": [
    "Python is an object-oriented language. There are many different types of objects in Python. Let's start with the most common object types: strings, integers and floats. Anytime you write words (text) in Python, you're using character strings (strings for short). The most common numbers, on the other hand, are integers (e.g. -1, 0, 100) and floats, which represent real numbers (e.g. 3.14, -42.0)."
   ]
  },
  {
   "cell_type": "markdown",
   "id": "ff5a70f3",
   "metadata": {},
   "source": [
    "The following code contain same example:"
   ]
  },
  {
   "cell_type": "code",
   "execution_count": null,
   "id": "37828a07",
   "metadata": {},
   "outputs": [],
   "source": [
    "#integer\n",
    "3"
   ]
  },
  {
   "cell_type": "code",
   "execution_count": null,
   "id": "bb0b86fe",
   "metadata": {},
   "outputs": [],
   "source": [
    "#float\n",
    "3.14"
   ]
  },
  {
   "cell_type": "code",
   "execution_count": null,
   "id": "691840bb",
   "metadata": {},
   "outputs": [],
   "source": [
    "#string\n",
    "\"Salam World\""
   ]
  },
  {
   "cell_type": "markdown",
   "id": "a8b2c387",
   "metadata": {
    "vscode": {
     "languageId": "plaintext"
    }
   },
   "source": [
    "You can get Python to tell you the type of an expression by using the built-in type() function. You'll notice that Python refers to integers as int, floats as float, and character strings as str."
   ]
  },
  {
   "cell_type": "code",
   "execution_count": null,
   "id": "769862be",
   "metadata": {},
   "outputs": [],
   "source": [
    "#type of 3\n",
    "type(3)"
   ]
  },
  {
   "cell_type": "code",
   "execution_count": null,
   "id": "8aa6c68a",
   "metadata": {},
   "outputs": [],
   "source": [
    "#type of 3.1475\n",
    "type(3.1475)"
   ]
  },
  {
   "cell_type": "code",
   "execution_count": 2,
   "id": "ecbdbd1a",
   "metadata": {},
   "outputs": [
    {
     "data": {
      "text/plain": [
       "str"
      ]
     },
     "execution_count": 2,
     "metadata": {},
     "output_type": "execute_result"
    }
   ],
   "source": [
    "# type of \"Salam\"\n",
    "type(\"Salam\")"
   ]
  },
  {
   "cell_type": "markdown",
   "id": "5f583369",
   "metadata": {},
   "source": [
    "<p>In the code cell below, use the <code>type()</code> function to check the object type of <code>12.0</code>.\n"
   ]
  },
  {
   "cell_type": "code",
   "execution_count": null,
   "id": "d0252c38",
   "metadata": {},
   "outputs": [],
   "source": [
    "# Write your code below. Don't forget to press Shift+Enter to execute the cell\n"
   ]
  },
  {
   "cell_type": "markdown",
   "id": "7f6e1059",
   "metadata": {},
   "source": [
    "# Integers\n",
    "Integers can be negative or positive numbers:\n",
    "\n",
    "\n",
    "We can verify this is the case by using, you guessed it, the type() function:"
   ]
  },
  {
   "cell_type": "code",
   "execution_count": 3,
   "id": "ed36fc2b",
   "metadata": {},
   "outputs": [
    {
     "data": {
      "text/plain": [
       "int"
      ]
     },
     "execution_count": 3,
     "metadata": {},
     "output_type": "execute_result"
    }
   ],
   "source": [
    "#type of -1\n",
    "type(-1)"
   ]
  },
  {
   "cell_type": "code",
   "execution_count": 4,
   "id": "1e4a56ab",
   "metadata": {},
   "outputs": [
    {
     "data": {
      "text/plain": [
       "int"
      ]
     },
     "execution_count": 4,
     "metadata": {},
     "output_type": "execute_result"
    }
   ],
   "source": [
    "#type of -15\n",
    "type(-15)"
   ]
  },
  {
   "cell_type": "code",
   "execution_count": 5,
   "id": "ec31061b",
   "metadata": {},
   "outputs": [
    {
     "data": {
      "text/plain": [
       "int"
      ]
     },
     "execution_count": 5,
     "metadata": {},
     "output_type": "execute_result"
    }
   ],
   "source": [
    "#type of 0\n",
    "type(0)"
   ]
  },
  {
   "cell_type": "markdown",
   "id": "7f90611a",
   "metadata": {},
   "source": [
    "Floats represent real numbers; they are a superset of integer numbers but also include \"numbers with decimals\". There are some limitations when it comes to machines representing real numbers, but floating point numbers are a good representation in most cases. You can learn more about the specifics of floats for your runtime environment, by checking the value of <code>sys.float_info</code>. This will also tell you what's the largest and smallest number that can be represented with them.\n",
    "\n",
    "Once again, can test some examples with the type() function:"
   ]
  },
  {
   "cell_type": "code",
   "execution_count": 7,
   "id": "d75fb825",
   "metadata": {},
   "outputs": [
    {
     "data": {
      "text/plain": [
       "float"
      ]
     },
     "execution_count": 7,
     "metadata": {},
     "output_type": "execute_result"
    }
   ],
   "source": [
    "#type of 2.1\n",
    "type(2.1)"
   ]
  },
  {
   "cell_type": "code",
   "execution_count": 9,
   "id": "44a1d265",
   "metadata": {},
   "outputs": [
    {
     "data": {
      "text/plain": [
       "float"
      ]
     },
     "execution_count": 9,
     "metadata": {},
     "output_type": "execute_result"
    }
   ],
   "source": [
    "#type of 0.87\n",
    "type(0.87)"
   ]
  },
  {
   "cell_type": "code",
   "execution_count": 10,
   "id": "67fc7de7",
   "metadata": {},
   "outputs": [
    {
     "data": {
      "text/plain": [
       "float"
      ]
     },
     "execution_count": 10,
     "metadata": {},
     "output_type": "execute_result"
    }
   ],
   "source": [
    "#type of 0.1\n",
    "type(0.1)"
   ]
  },
  {
   "cell_type": "code",
   "execution_count": 12,
   "id": "686e1b48",
   "metadata": {},
   "outputs": [
    {
     "data": {
      "text/plain": [
       "sys.float_info(max=1.7976931348623157e+308, max_exp=1024, max_10_exp=308, min=2.2250738585072014e-308, min_exp=-1021, min_10_exp=-307, dig=15, mant_dig=53, epsilon=2.220446049250313e-16, radix=2, rounds=1)"
      ]
     },
     "execution_count": 12,
     "metadata": {},
     "output_type": "execute_result"
    }
   ],
   "source": [
    "# System setting about float type\n",
    "import sys\n",
    "sys.float_info"
   ]
  },
  {
   "cell_type": "markdown",
   "id": "039db62c",
   "metadata": {},
   "source": [
    "## Converting from one object type to a different object type\n",
    "You can change the type of the object in Python; this is called typecasting. For example, you can convert an integer into a float (e.g. 2 to 2.0).\n",
    "\n",
    "Let's try it:"
   ]
  },
  {
   "cell_type": "code",
   "execution_count": 13,
   "id": "0c65cca6",
   "metadata": {},
   "outputs": [
    {
     "data": {
      "text/plain": [
       "int"
      ]
     },
     "execution_count": 13,
     "metadata": {},
     "output_type": "execute_result"
    }
   ],
   "source": [
    "#Verify it is an integer\n",
    "type(2)"
   ]
  },
  {
   "cell_type": "code",
   "execution_count": null,
   "id": "dd6b14cb",
   "metadata": {},
   "outputs": [
    {
     "data": {
      "text/plain": [
       "2.0"
      ]
     },
     "execution_count": 14,
     "metadata": {},
     "output_type": "execute_result"
    }
   ],
   "source": [
    "#Convert 2 to float\n",
    "float(2)"
   ]
  },
  {
   "cell_type": "code",
   "execution_count": 16,
   "id": "5b996e05",
   "metadata": {},
   "outputs": [
    {
     "data": {
      "text/plain": [
       "float"
      ]
     },
     "execution_count": 16,
     "metadata": {},
     "output_type": "execute_result"
    }
   ],
   "source": [
    "#Convert 2 to float and then check its type\n",
    "type(float(2))"
   ]
  },
  {
   "cell_type": "markdown",
   "id": "ec7503cb",
   "metadata": {},
   "source": [
    "When we convert an integer into a float, we don't really change the value (i.e., the significand) of the number. However, if we cast a float into an integer, we could potentially lose some information. For example, if we cast the float 2.1 to integer we will get 1 and lose the decimal information (i.e., 0.1):"
   ]
  },
  {
   "cell_type": "code",
   "execution_count": 17,
   "id": "685e268c",
   "metadata": {},
   "outputs": [
    {
     "data": {
      "text/plain": [
       "2"
      ]
     },
     "execution_count": 17,
     "metadata": {},
     "output_type": "execute_result"
    }
   ],
   "source": [
    "#Convert float 2.1 to integer\n",
    "int(2.1)"
   ]
  },
  {
   "cell_type": "markdown",
   "id": "070e67e8",
   "metadata": {},
   "source": [
    "## Converting from strings to integers or floats\n",
    "Sometimes, we can have a string that contains a number within it. If this is the case, we can cast that string that represents a number into an integer using int():"
   ]
  },
  {
   "cell_type": "code",
   "execution_count": 18,
   "id": "2cd0ab77",
   "metadata": {},
   "outputs": [
    {
     "data": {
      "text/plain": [
       "1"
      ]
     },
     "execution_count": 18,
     "metadata": {},
     "output_type": "execute_result"
    }
   ],
   "source": [
    "#Convert a string into integer\n",
    "int(\"1\")\n"
   ]
  },
  {
   "cell_type": "code",
   "execution_count": 19,
   "id": "49970fc8",
   "metadata": {},
   "outputs": [
    {
     "ename": "ValueError",
     "evalue": "invalid literal for int() with base 10: '1 and 2 are integer'",
     "output_type": "error",
     "traceback": [
      "\u001b[31m---------------------------------------------------------------------------\u001b[39m",
      "\u001b[31mValueError\u001b[39m                                Traceback (most recent call last)",
      "\u001b[36mCell\u001b[39m\u001b[36m \u001b[39m\u001b[32mIn[19]\u001b[39m\u001b[32m, line 2\u001b[39m\n\u001b[32m      1\u001b[39m \u001b[38;5;66;03m#Convert string into integer\u001b[39;00m\n\u001b[32m----> \u001b[39m\u001b[32m2\u001b[39m \u001b[38;5;28;43mint\u001b[39;49m\u001b[43m(\u001b[49m\u001b[33;43m\"\u001b[39;49m\u001b[33;43m1 and 2 are integer\u001b[39;49m\u001b[33;43m\"\u001b[39;49m\u001b[43m)\u001b[49m\n",
      "\u001b[31mValueError\u001b[39m: invalid literal for int() with base 10: '1 and 2 are integer'"
     ]
    }
   ],
   "source": [
    "#Convert string into integer\n",
    "int(\"1 and 2 are integer\")"
   ]
  },
  {
   "cell_type": "markdown",
   "id": "eedcb67c",
   "metadata": {},
   "source": [
    "But if you try to do so with a string that is not a perfect match for a number, you'll get an error.\n",
    "### Rule of thumb\n",
    "int → str is always possible ✅\n",
    "\n",
    "str → int is possible only if the string is a valid number literal in the given base ✅❌\n",
    "\n",
    " Try the following:"
   ]
  },
  {
   "cell_type": "code",
   "execution_count": 22,
   "id": "38fcc361",
   "metadata": {},
   "outputs": [
    {
     "data": {
      "text/plain": [
       "2.1"
      ]
     },
     "execution_count": 22,
     "metadata": {},
     "output_type": "execute_result"
    }
   ],
   "source": [
    "#Convert string to float\n",
    "float(\"2.1\")"
   ]
  },
  {
   "cell_type": "markdown",
   "id": "9be8f3dd",
   "metadata": {},
   "source": [
    "[Tip:] Note that strings can be represented with single quotes ('1.2') or double quotes (\"1.2\"), but you can't mix both (e.g., \"1.2')."
   ]
  },
  {
   "cell_type": "markdown",
   "id": "129db468",
   "metadata": {},
   "source": [
    "Converting numbers to strings\n",
    "If we can convert strings to numbers, it is only natural to assume that we can convert numbers to strings, right?"
   ]
  },
  {
   "cell_type": "code",
   "execution_count": 23,
   "id": "d2c69c55",
   "metadata": {},
   "outputs": [
    {
     "data": {
      "text/plain": [
       "'34'"
      ]
     },
     "execution_count": 23,
     "metadata": {},
     "output_type": "execute_result"
    }
   ],
   "source": [
    "#Convert an integer to string\n",
    "str(34)"
   ]
  },
  {
   "cell_type": "markdown",
   "id": "9b08a5f3",
   "metadata": {},
   "source": [
    "\n",
    "\n",
    "\n",
    "\n",
    "\n",
    "\n",
    "\n",
    "And there is no reason why we shouldn't be able to make floats into strings as well:"
   ]
  },
  {
   "cell_type": "code",
   "execution_count": 1,
   "id": "af3f5427",
   "metadata": {},
   "outputs": [
    {
     "data": {
      "text/plain": [
       "'3.5'"
      ]
     },
     "execution_count": 1,
     "metadata": {},
     "output_type": "execute_result"
    }
   ],
   "source": [
    "#Convert float into str\n",
    "str(3.5)"
   ]
  },
  {
   "cell_type": "markdown",
   "id": "e3e612ab",
   "metadata": {},
   "source": [
    "## Boolean data type¶\n",
    "Boolean is another important type in Python. An object of type Boolean can take on one of two values: True or False:"
   ]
  },
  {
   "cell_type": "code",
   "execution_count": 25,
   "id": "f4df3152",
   "metadata": {},
   "outputs": [
    {
     "data": {
      "text/plain": [
       "True"
      ]
     },
     "execution_count": 25,
     "metadata": {},
     "output_type": "execute_result"
    }
   ],
   "source": [
    "#Value true\n",
    "True"
   ]
  },
  {
   "cell_type": "markdown",
   "id": "37c02222",
   "metadata": {},
   "source": [
    "Notice that the value True has an uppercase \"T\". The same is true for False (i.e. you must use the uppercase \"F\").\n"
   ]
  },
  {
   "cell_type": "code",
   "execution_count": 26,
   "id": "248d6ee2",
   "metadata": {},
   "outputs": [
    {
     "data": {
      "text/plain": [
       "False"
      ]
     },
     "execution_count": 26,
     "metadata": {},
     "output_type": "execute_result"
    }
   ],
   "source": [
    "#Value False\n",
    "False"
   ]
  },
  {
   "cell_type": "markdown",
   "id": "7303ae9e",
   "metadata": {},
   "source": [
    "When you ask Python to display the type of a boolean object it will show bool which stands for boolean:"
   ]
  },
  {
   "cell_type": "code",
   "execution_count": null,
   "id": "100c8361",
   "metadata": {},
   "outputs": [
    {
     "data": {
      "text/plain": [
       "bool"
      ]
     },
     "execution_count": 27,
     "metadata": {},
     "output_type": "execute_result"
    }
   ],
   "source": [
    "#Check type of False\n",
    "type(True)"
   ]
  },
  {
   "cell_type": "code",
   "execution_count": 28,
   "id": "be4cef16",
   "metadata": {},
   "outputs": [
    {
     "data": {
      "text/plain": [
       "bool"
      ]
     },
     "execution_count": 28,
     "metadata": {},
     "output_type": "execute_result"
    }
   ],
   "source": [
    "#Check type of False\n",
    "type(False)"
   ]
  },
  {
   "cell_type": "markdown",
   "id": "adcf5c7a",
   "metadata": {},
   "source": [
    "We can cast boolean objects to other data types. If we cast a boolean with a value of True to an integer or float we will get a one. If we cast a boolean with a value of False to an integer or float we will get a zero. Similarly, if we cast a 1 to a Boolean, you get a True. And if we cast a 0 to a Boolean we will get a False. Let's give it a try:"
   ]
  },
  {
   "cell_type": "code",
   "execution_count": null,
   "id": "c6515bc2",
   "metadata": {},
   "outputs": [
    {
     "data": {
      "text/plain": [
       "1"
      ]
     },
     "execution_count": 29,
     "metadata": {},
     "output_type": "execute_result"
    }
   ],
   "source": [
    "#Convert True to integer\n",
    "int(True)"
   ]
  },
  {
   "cell_type": "code",
   "execution_count": null,
   "id": "ac0b3a7d",
   "metadata": {},
   "outputs": [
    {
     "data": {
      "text/plain": [
       "0"
      ]
     },
     "execution_count": 30,
     "metadata": {},
     "output_type": "execute_result"
    }
   ],
   "source": [
    "\n",
    "#Convert False to integer\n",
    "int(False)"
   ]
  },
  {
   "cell_type": "code",
   "execution_count": 31,
   "id": "44f7ed10",
   "metadata": {},
   "outputs": [
    {
     "data": {
      "text/plain": [
       "True"
      ]
     },
     "execution_count": 31,
     "metadata": {},
     "output_type": "execute_result"
    }
   ],
   "source": [
    "#Convert 1 to boolean\n",
    "bool(1)"
   ]
  },
  {
   "cell_type": "code",
   "execution_count": 32,
   "id": "52a1bf00",
   "metadata": {},
   "outputs": [
    {
     "data": {
      "text/plain": [
       "False"
      ]
     },
     "execution_count": 32,
     "metadata": {},
     "output_type": "execute_result"
    }
   ],
   "source": [
    "#Convert 0 to boolean\n",
    "bool(0)"
   ]
  },
  {
   "cell_type": "markdown",
   "id": "aa8aa324",
   "metadata": {},
   "source": [
    "What is the data type of the result of: 6 / 2?"
   ]
  },
  {
   "cell_type": "code",
   "execution_count": 34,
   "id": "d16e6c30",
   "metadata": {},
   "outputs": [
    {
     "data": {
      "text/plain": [
       "float"
      ]
     },
     "execution_count": 34,
     "metadata": {},
     "output_type": "execute_result"
    }
   ],
   "source": [
    "#Check the type of 6/2\n",
    "type(6/2)"
   ]
  },
  {
   "cell_type": "markdown",
   "id": "4b81cb9e",
   "metadata": {},
   "source": [
    "What is the type of the result of: 6 // 2? (Note the double slash //.)"
   ]
  },
  {
   "cell_type": "code",
   "execution_count": null,
   "id": "98b3c056",
   "metadata": {},
   "outputs": [
    {
     "data": {
      "text/plain": [
       "int"
      ]
     },
     "execution_count": 33,
     "metadata": {},
     "output_type": "execute_result"
    }
   ],
   "source": [
    "#Check the type of 6//2\n",
    "type(6//2)"
   ]
  },
  {
   "cell_type": "markdown",
   "id": "391c5d1e",
   "metadata": {},
   "source": [
    "What is the type of the result of: \"Hello, World!\""
   ]
  },
  {
   "cell_type": "code",
   "execution_count": 35,
   "id": "648157d2",
   "metadata": {},
   "outputs": [
    {
     "data": {
      "text/plain": [
       "str"
      ]
     },
     "execution_count": 35,
     "metadata": {},
     "output_type": "execute_result"
    }
   ],
   "source": [
    "#Check the type\n",
    "type(\"Hello, World!\")"
   ]
  },
  {
   "cell_type": "markdown",
   "id": "994e85ae",
   "metadata": {},
   "source": [
    "\n",
    "\n",
    "\n",
    "\n",
    "\n",
    "\n",
    "\n",
    "What is the type of the result of: \"hello\" == \"world\""
   ]
  },
  {
   "cell_type": "code",
   "execution_count": null,
   "id": "6ae532f5",
   "metadata": {},
   "outputs": [],
   "source": [
    "#Check the type \n"
   ]
  },
  {
   "cell_type": "markdown",
   "id": "32b76b3f",
   "metadata": {},
   "source": [
    "Write the code to convert the following number representing employeeid \"1001\" to an integer"
   ]
  },
  {
   "cell_type": "code",
   "execution_count": null,
   "id": "ec9dec86",
   "metadata": {},
   "outputs": [],
   "source": []
  },
  {
   "cell_type": "markdown",
   "id": "acf3a4d3",
   "metadata": {},
   "source": [
    "Write the code to convert this number representing financial value \"1234.56\" to a floating point number"
   ]
  },
  {
   "cell_type": "code",
   "execution_count": null,
   "id": "383c8433",
   "metadata": {},
   "outputs": [],
   "source": []
  },
  {
   "cell_type": "markdown",
   "id": "252e8361",
   "metadata": {},
   "source": [
    "Write the code to convert this phone number 123-456-7890 to a string"
   ]
  },
  {
   "cell_type": "code",
   "execution_count": null,
   "id": "fc11313a",
   "metadata": {},
   "outputs": [],
   "source": []
  }
 ],
 "metadata": {
  "kernelspec": {
   "display_name": "base",
   "language": "python",
   "name": "python3"
  },
  "language_info": {
   "codemirror_mode": {
    "name": "ipython",
    "version": 3
   },
   "file_extension": ".py",
   "mimetype": "text/x-python",
   "name": "python",
   "nbconvert_exporter": "python",
   "pygments_lexer": "ipython3",
   "version": "3.13.5"
  }
 },
 "nbformat": 4,
 "nbformat_minor": 5
}
