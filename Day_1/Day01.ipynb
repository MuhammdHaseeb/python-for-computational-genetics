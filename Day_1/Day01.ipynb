{
 "cells": [
  {
   "cell_type": "markdown",
   "id": "957eaa6a",
   "metadata": {},
   "source": [
    "# Given that we installed Jupyter through this command,"
   ]
  },
  {
   "cell_type": "code",
   "execution_count": null,
   "id": "f3373168",
   "metadata": {},
   "outputs": [],
   "source": [
    "pip install notebook"
   ]
  },
  {
   "cell_type": "markdown",
   "id": "cb59a93d",
   "metadata": {},
   "source": [
    "Now, open the Run dialog by pressing Windows + R.\n",
    "Type cmd and press Enter to open the Command Prompt.\n",
    "In the Command Prompt window, type the following command to launch Jupyter Notebook in Google Chrome:"
   ]
  },
  {
   "cell_type": "markdown",
   "id": "d9bdb50a",
   "metadata": {},
   "source": [
    "(Make sure you are connected to the internet before proceeding.)"
   ]
  },
  {
   "cell_type": "code",
   "execution_count": null,
   "id": "f9d8a171",
   "metadata": {},
   "outputs": [],
   "source": [
    "jupyter notebook"
   ]
  },
  {
   "cell_type": "markdown",
   "id": "ceaef284",
   "metadata": {},
   "source": [
    "When jupyter tab will open in your chrome go to New then click on Python 3 (ipykernal). A file is created click the file and open it and start coding."
   ]
  },
  {
   "cell_type": "markdown",
   "id": "5088a1a7",
   "metadata": {},
   "source": [
    "# Say 'Hello' to the world in Python"
   ]
  },
  {
   "cell_type": "markdown",
   "id": "a173b30a",
   "metadata": {},
   "source": [
    "When learning a new programming language, it is customary to start with an \"hello world\" example. As simple as it is, this one line of code will ensure that we know how to print a string in output and how to execute code within cells in a notebook."
   ]
  },
  {
   "cell_type": "markdown",
   "id": "03bd6c04",
   "metadata": {},
   "source": [
    "[Tip]: To execute the Python code in the code cell below, click on the cell to select it and press Shift + Enter."
   ]
  },
  {
   "cell_type": "code",
   "execution_count": 6,
   "id": "9c4b9328",
   "metadata": {},
   "outputs": [
    {
     "name": "stdout",
     "output_type": "stream",
     "text": [
      "Hello, Python!\n"
     ]
    }
   ],
   "source": [
    "# Try your first Python output\n",
    "\n",
    "print('Hello, Python!')"
   ]
  },
  {
   "cell_type": "markdown",
   "id": "655700c4",
   "metadata": {},
   "source": [
    "After executing the cell above, you should see that Python prints Hello, Python!. Congratulations on running your first Python code!"
   ]
  },
  {
   "cell_type": "markdown",
   "id": "bfdd5155",
   "metadata": {},
   "source": [
    "[Tip:] print() is a function. You passed the string 'Hello, Python!' as an argument to instruct Python on what to print."
   ]
  },
  {
   "cell_type": "markdown",
   "id": "2561e985",
   "metadata": {},
   "source": [
    "# What version of Python are we using?\n",
    "\n",
    "We use Python 3 exclusively in all our labs. How do we know that our notebook is executed by a Python 3 runtime?\n",
    "\n",
    "We can ask Python directly and obtain a detailed answer. Try executing the following code:\n",
    "\n"
   ]
  },
  {
   "cell_type": "code",
   "execution_count": 8,
   "id": "3edf30a2",
   "metadata": {},
   "outputs": [
    {
     "name": "stdout",
     "output_type": "stream",
     "text": [
      "3.13.5 | packaged by Anaconda, Inc. | (main, Jun 12 2025, 16:37:03) [MSC v.1929 64 bit (AMD64)]\n"
     ]
    }
   ],
   "source": [
    "# Check the Python Version\n",
    "\n",
    "import sys\n",
    "print(sys.version)"
   ]
  },
  {
   "cell_type": "markdown",
   "id": "f81c9be8",
   "metadata": {},
   "source": [
    "[Tip:] sys is a built-in module that contains many system-specific parameters and functions, including the Python version in use. Before using it, we must explictly import it."
   ]
  },
  {
   "cell_type": "markdown",
   "id": "0443ba05",
   "metadata": {},
   "source": [
    "# Writing comments in Python\n",
    "In addition to writing code, note that it's always a good idea to add comments to your code. It will help others understand what you were trying to accomplish (the reason why you wrote a given snippet of code). Not only does this help other people understand your code, it can also serve as a reminder to you when you come back to it weeks or months later.\n",
    "\n",
    "To write comments in Python, use the number symbol # before writing your comment. When you run your code, Python will ignore everything past the # on a given line."
   ]
  },
  {
   "cell_type": "code",
   "execution_count": null,
   "id": "70751122",
   "metadata": {},
   "outputs": [],
   "source": [
    "# Practice on writing comments\n",
    "\n",
    "print('Hello, Python!') # This line prints a string\n",
    "# print(\"Hi\")"
   ]
  },
  {
   "cell_type": "markdown",
   "id": "26ac2e85",
   "metadata": {},
   "source": [
    "After executing the cell above, you should notice that This line prints a string did not appear in the output, because it was a comment (and thus ignored by Python).\n",
    "\n",
    "The second line was also not executed because print('Hi') was preceded by the number sign (#) as well! Since this isn't an explanatory comment from the programmer, but an actual line of code, we might say that the programmer commented out that second line of code.\n",
    "\n"
   ]
  },
  {
   "cell_type": "markdown",
   "id": "b2cd71cb",
   "metadata": {},
   "source": [
    "# Errors in Python\n",
    "Everyone makes mistakes. For many types of mistakes, Python will tell you that you have made a mistake by giving you an error message. It is important to read error messages carefully to really understand where you made a mistake and how you may go about correcting it.\n",
    "\n",
    "For example, if you spell print as frint, Python will display an error message. Give it a try:"
   ]
  },
  {
   "cell_type": "code",
   "execution_count": 10,
   "id": "e29231d8",
   "metadata": {},
   "outputs": [
    {
     "ename": "NameError",
     "evalue": "name 'frint' is not defined",
     "output_type": "error",
     "traceback": [
      "\u001b[31m---------------------------------------------------------------------------\u001b[39m",
      "\u001b[31mNameError\u001b[39m                                 Traceback (most recent call last)",
      "\u001b[36mCell\u001b[39m\u001b[36m \u001b[39m\u001b[32mIn[10]\u001b[39m\u001b[32m, line 3\u001b[39m\n\u001b[32m      1\u001b[39m \u001b[38;5;66;03m# Print string as error message\u001b[39;00m\n\u001b[32m----> \u001b[39m\u001b[32m3\u001b[39m \u001b[43mfrint\u001b[49m(\u001b[33m\"\u001b[39m\u001b[33mHello, Python!\u001b[39m\u001b[33m\"\u001b[39m)\n",
      "\u001b[31mNameError\u001b[39m: name 'frint' is not defined"
     ]
    }
   ],
   "source": [
    "# Print string as error message\n",
    "\n",
    "frint(\"Hello, Python!\")"
   ]
  },
  {
   "cell_type": "markdown",
   "id": "6f0b1d8d",
   "metadata": {},
   "source": [
    "The error message tells you:\n",
    "\n",
    "1. where the error occurred , and\n",
    "2. what kind of error it was (NameError)\n",
    "Here, Python attempted to run the function frint, but could not determine what frint is since it's not a built-in function and it has not been previously defined by us either.\n",
    "\n",
    "You'll notice that if we make a different type of mistake, by forgetting to close the string, we'll obtain a different error (i.e., a SyntaxError). Try it below:"
   ]
  },
  {
   "cell_type": "code",
   "execution_count": 11,
   "id": "5ebaa5d2",
   "metadata": {},
   "outputs": [
    {
     "ename": "SyntaxError",
     "evalue": "unterminated string literal (detected at line 3) (3628399183.py, line 3)",
     "output_type": "error",
     "traceback": [
      "  \u001b[36mCell\u001b[39m\u001b[36m \u001b[39m\u001b[32mIn[11]\u001b[39m\u001b[32m, line 3\u001b[39m\n\u001b[31m    \u001b[39m\u001b[31mprint(\"Hello, Python!)\u001b[39m\n          ^\n\u001b[31mSyntaxError\u001b[39m\u001b[31m:\u001b[39m unterminated string literal (detected at line 3)\n"
     ]
    }
   ],
   "source": [
    "# Try to see built-in error message\n",
    "\n",
    "print(\"Hello, Python!)"
   ]
  },
  {
   "cell_type": "markdown",
   "id": "e8d179c4",
   "metadata": {},
   "source": [
    "# Does Python know about your error before it runs your code?\n",
    "Python is what is called an interpreted language. Compiled languages examine your entire program at compile time, and are able to warn you about a whole class of errors prior to execution. In contrast, Python interprets your script line by line as it executes it. Python will stop executing the entire program when it encounters an error (unless the error is expected and handled by the programmer, a more advanced subject that we'll cover later.\n",
    "\n",
    "\n",
    "\n",
    "Try to run the code in the cell below and see what happens:"
   ]
  },
  {
   "cell_type": "code",
   "execution_count": 12,
   "id": "454133e6",
   "metadata": {},
   "outputs": [
    {
     "name": "stdout",
     "output_type": "stream",
     "text": [
      "This will be printed\n"
     ]
    },
    {
     "ename": "NameError",
     "evalue": "name 'frint' is not defined",
     "output_type": "error",
     "traceback": [
      "\u001b[31m---------------------------------------------------------------------------\u001b[39m",
      "\u001b[31mNameError\u001b[39m                                 Traceback (most recent call last)",
      "\u001b[36mCell\u001b[39m\u001b[36m \u001b[39m\u001b[32mIn[12]\u001b[39m\u001b[32m, line 4\u001b[39m\n\u001b[32m      1\u001b[39m \u001b[38;5;66;03m# Print string and error to see the running order\u001b[39;00m\n\u001b[32m      3\u001b[39m \u001b[38;5;28mprint\u001b[39m(\u001b[33m\"\u001b[39m\u001b[33mThis will be printed\u001b[39m\u001b[33m\"\u001b[39m)\n\u001b[32m----> \u001b[39m\u001b[32m4\u001b[39m \u001b[43mfrint\u001b[49m(\u001b[33m\"\u001b[39m\u001b[33mThis will cause an error\u001b[39m\u001b[33m\"\u001b[39m)\n\u001b[32m      5\u001b[39m \u001b[38;5;28mprint\u001b[39m(\u001b[33m\"\u001b[39m\u001b[33mThis will NOT be printed\u001b[39m\u001b[33m\"\u001b[39m)\n",
      "\u001b[31mNameError\u001b[39m: name 'frint' is not defined"
     ]
    }
   ],
   "source": [
    "# Print string and error to see the running order\n",
    "\n",
    "print(\"This will be printed\")\n",
    "frint(\"This will cause an error\")\n",
    "print(\"This will NOT be printed\")"
   ]
  },
  {
   "cell_type": "markdown",
   "id": "965990ee",
   "metadata": {},
   "source": [
    "Exercise: Your First Program\n",
    "Generations of programmers have started their coding careers by simply printing \"Hello, world!\". You will be following in their footsteps.\n",
    "\n",
    "In the code cell below, use the print() function to print out the phrase: Hello, world!"
   ]
  },
  {
   "cell_type": "markdown",
   "id": "5bfbd47b",
   "metadata": {},
   "source": [
    "# Exercise: Your First Program"
   ]
  },
  {
   "cell_type": "code",
   "execution_count": 13,
   "id": "e63e744d",
   "metadata": {},
   "outputs": [],
   "source": [
    "# Write your code below."
   ]
  },
  {
   "cell_type": "markdown",
   "id": "406a6675",
   "metadata": {},
   "source": [
    "Now, let's enhance your code with a comment. In the code cell below, print out the phrase: Hello, world! and comment it with the phrase Print the traditional hello world all in one line of code.\n"
   ]
  },
  {
   "cell_type": "code",
   "execution_count": 14,
   "id": "53bd8cb9",
   "metadata": {},
   "outputs": [],
   "source": [
    "# Write your code below."
   ]
  },
  {
   "cell_type": "markdown",
   "id": "56199c2d",
   "metadata": {},
   "source": [
    "What is the value of z where z = 2 + 15?"
   ]
  },
  {
   "cell_type": "code",
   "execution_count": null,
   "id": "d3081c03",
   "metadata": {},
   "outputs": [],
   "source": [
    "# write your code below."
   ]
  }
 ],
 "metadata": {
  "kernelspec": {
   "display_name": "base",
   "language": "python",
   "name": "python3"
  },
  "language_info": {
   "codemirror_mode": {
    "name": "ipython",
    "version": 3
   },
   "file_extension": ".py",
   "mimetype": "text/x-python",
   "name": "python",
   "nbconvert_exporter": "python",
   "pygments_lexer": "ipython3",
   "version": "3.13.5"
  }
 },
 "nbformat": 4,
 "nbformat_minor": 5
}
